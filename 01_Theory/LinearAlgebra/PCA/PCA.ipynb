{
 "cells": [
  {
   "cell_type": "markdown",
   "id": "vietnamese-casting",
   "metadata": {},
   "source": [
    "# PCA 觀念與推導"
   ]
  },
  {
   "cell_type": "markdown",
   "id": "owned-firewall",
   "metadata": {},
   "source": [
    "> 找到另外不同的係數作為基底向量，將原資料做投影後，使得各個sample間有最大差異量\n"
   ]
  },
  {
   "cell_type": "markdown",
   "id": "pretty-disabled",
   "metadata": {},
   "source": [
    "## 問題描述"
   ]
  },
  {
   "cell_type": "markdown",
   "id": "textile-amino",
   "metadata": {},
   "source": [
    "假設今天拿到了一些數據，這個數據以一個矩陣的方式記錄資訊，這個矩陣的row代表了不同受測對象，column代表了不同的特徵或者量測值，而row方向的長度是m，而column方向的長度是n，所以這是個$m\\times n$的矩陣(matrix)"
   ]
  },
  {
   "cell_type": "markdown",
   "id": "animated-honduras",
   "metadata": {},
   "source": [
    "$$Data=\n",
    "\\left[\n",
    "  \\begin{matrix}\n",
    "   x_{11} & x_{12} \\cdots & x_{1n} \\\\\n",
    "   x_{21} & \\cdots & \\cdots \\\\\n",
    "   \\cdots & \\cdots & \\cdots \\\\\n",
    "   x_{m1} & \\cdots & x_{mn}\n",
    "  \\end{matrix} \n",
    "  \\right]\\tag{1}\n",
    "$$"
   ]
  },
  {
   "cell_type": "markdown",
   "id": "narrative-italy",
   "metadata": {},
   "source": [
    "舉例來說，假設有m個受測者，每個人都針對身高體重等**特徵**做量測，每個人紀錄了n個特徵\n",
    "\n",
    "但是當特徵太過於龐大且又可能有關聯時，往往會希望能萃取出一些特徵達到維度降低的目的，畢竟如果特徵數太多，但是受測者不夠多，在分類或回歸上可能會產生不好的效果。"
   ]
  },
  {
   "cell_type": "markdown",
   "id": "blocked-insulin",
   "metadata": {},
   "source": [
    "有沒有辦法把$x_k=[x_{k1},x_{k2},\\cdots,x_{kn}]$轉成$z_k=[z_{k1},z_{k2},\\cdots,z_{kn}]$，使得這k個受測者間有最大差異(maximum variance)\n"
   ]
  },
  {
   "cell_type": "markdown",
   "id": "impossible-football",
   "metadata": {},
   "source": [
    "## 目的"
   ]
  },
  {
   "cell_type": "markdown",
   "id": "distributed-helmet",
   "metadata": {},
   "source": [
    "現在的目的如下\n",
    "\n",
    "1. **希望將原始的n個特徵經過線性組合，找到新的特徵**，第k個受測者特徵轉換後的特徵如下：\n",
    "\n",
    "$$z_k= a_1y_{k,1}+\\cdots a_ny_{k,i=n}={\\bf{a}^Ty_k},\\;k=1\\sim m\\tag{2}$$\n",
    "\n",
    "\n",
    "$$y_{ki}=\\frac{x_{ki}-\\bar{x_i}}{\\sigma_i}$$\n",
    "\n",
    "意思是把每個原始的量測值扣掉其平均後，再除以標準差，來達到***標準化***差異量的目的，同時也有以下效果\n",
    "\n",
    "$$\\Sigma^m_{k=1}{y_{ki}}=0,\\;$$\n",
    "\n",
    "$$\\bar{y_i}=0$$\n",
    "\n",
    "$$\\bar{z}=a_1\\bar{y}_1+a_2\\bar{y}_2+\\cdots + a_n\\bar{y}_n=0$$\n",
    "\n",
    "2. **$Var(z_k)$ 有最大值**"
   ]
  },
  {
   "cell_type": "markdown",
   "id": "african-deputy",
   "metadata": {},
   "source": [
    "接著按照變異數的計算方法將上式展開\n",
    "\n",
    "$$Var(z_k)=\\frac{{\\Sigma^m_{k=1}({z_k-\\bar{z}})^2}}{m-1}=\\frac{\\Sigma^m_{k=1}{z_k}^2}{m-1}=\\frac{\\Sigma^m_{k=1}{(\\bf{a}^Ty_k)}^2}{m-1}$$\n"
   ]
  },
  {
   "cell_type": "markdown",
   "id": "photographic-specialist",
   "metadata": {},
   "source": [
    "$$=\\frac{\\Sigma^m_{k=1}{(\\bf{y}^T_ka)(a^Ty_k)}}{m-1}=\\frac{\\Sigma^m_{k=1}{(\\bf{a}^Ty_k)(y^T_ka)}}{m-1}=\\frac{{\\bf{a}^TB^TBa}}{m-1}$$\n"
   ]
  },
  {
   "cell_type": "markdown",
   "id": "headed-homeless",
   "metadata": {},
   "source": [
    "$$={\\bf{a}^T\\rho a}\\tag{3}$$"
   ]
  },
  {
   "cell_type": "markdown",
   "id": "unable-blank",
   "metadata": {},
   "source": [
    "$$B=\\left[\n",
    "  \\begin{matrix}\n",
    "   y_{11} & y_{12} \\cdots & y_{1n} \\\\\n",
    "   y_{21} & \\cdots & \\cdots \\\\\n",
    "   \\cdots & \\cdots & \\cdots \\\\\n",
    "   y_{m1} & \\cdots & y_{mn}\n",
    "  \\end{matrix} \n",
    "  \\right]=\n",
    "  \\left[\n",
    "  \\begin{matrix}\n",
    "   y_{k=1} \\\\\n",
    "   y_{k=2} \\\\\n",
    "   \\cdots \\\\\n",
    "   y_{k=m}\n",
    "  \\end{matrix} \n",
    "  \\right]$$"
   ]
  },
  {
   "cell_type": "markdown",
   "id": "fifth-bones",
   "metadata": {},
   "source": [
    "\n",
    "$$where\\; \\rho=\n",
    "\\left[\n",
    "  \\begin{matrix}\n",
    "   \\rho_{11} & \\cdots & \\rho_{1n} \\\\\n",
    "   \\rho_{21} & \\cdots & \\cdots \\\\\n",
    "   \\cdots & \\cdots & \\cdots \\\\\n",
    "   \\rho_{n1} & \\cdots & \\rho_{nn}\n",
    "  \\end{matrix} \n",
    "  \\right]=\\frac{1}{m-1}B^TB$$"
   ]
  },
  {
   "cell_type": "markdown",
   "id": "mineral-alabama",
   "metadata": {},
   "source": [
    "$$\\rho_{ij} =\\frac{\\Sigma^m_{k=1}{[(x_{ki}-\\bar{x}_i)(x_{kj}-\\bar{x}_j)}]}{\\sqrt{\\Sigma^m_{k=1}(x_{ki}-\\bar{x}_i)^2}\\sqrt{\\Sigma^m_{k=1}(x_{kj}-\\bar{x}_j)^2}}$$"
   ]
  },
  {
   "cell_type": "markdown",
   "id": "chinese-weight",
   "metadata": {},
   "source": [
    "到此，問題變成找能使$\\bf{a}^T\\rho \\bf{a}$產生最大值的$\\bf{a}$，而這個$\\bf{a}$可以視為一個基底向量，也就是有以下限制\n",
    "\n",
    "$${\\bf{a}^T\\bf{a}}=1\\tag{4}$$\n",
    "\n",
    "故變成找以下的最大值\n",
    "\n",
    "$$\\frac{\\bf{a}^T\\rho \\bf{a}}{\\bf{a}^T\\bf{a}}\\tag{5}$$\n",
    "\n",
    "由**Rayleigh Quotient**可知，由於$\\rho$是一個symmetric和positive semidefinite的矩陣，要使得上式產生最大值的$\\bf{a}$，就是最大的eigenvalue($\\lambda_1$)所對應到的eigenvector($\\bf{e_1}$)\n",
    "\n",
    "第二大的就是第二大的eigenvalue($\\lambda_2$)所對應到的eigenvector($\\bf{e_2}$)，依此類推。\n",
    "\n",
    "第k個受測者，第一個主成份($PCA_1$)是用第一個eigenvecor當基底對原始數據做linear combination後的結果\n",
    "\n",
    "$${\\bf{z_k}=e^T_1\\bf{y}}=e_{11}y_{k1}+e_{12}y_{k2}+\\cdots+e_{1n}y_{kn}$$"
   ]
  },
  {
   "cell_type": "markdown",
   "id": "expensive-veteran",
   "metadata": {},
   "source": [
    "結果：\n",
    "\n",
    "1. 從變數間，找n個長度為1(${\\bf{e^T_ie_i}}=1$)的基底${\\bf{e_i}}$(n維)，這些$e_i$彼此互相正交(Orthonormal)\n",
    "\n",
    "2. 最大的eigenvalue所對應到的eigenvector($e_1$)就是能使轉換過後的特徵，產生最大差異的基底。\n",
    "\n",
    "3. 每個component($e_i$)**能解釋的變異數**比例為$$\\frac{\\lambda_i}{\\Sigma^n_{j=1}(\\lambda_j)}$$"
   ]
  },
  {
   "cell_type": "markdown",
   "id": "boxed-scenario",
   "metadata": {},
   "source": [
    "## 實作"
   ]
  },
  {
   "cell_type": "code",
   "execution_count": 110,
   "id": "manual-omaha",
   "metadata": {},
   "outputs": [],
   "source": [
    "# import required library\n",
    "import pandas as pd\n",
    "from sklearn.datasets import load_iris\n",
    "import matplotlib\n",
    "import matplotlib.pyplot as plt\n",
    "import seaborn as sns\n",
    "import numpy as np"
   ]
  },
  {
   "cell_type": "code",
   "execution_count": 111,
   "id": "working-complement",
   "metadata": {},
   "outputs": [],
   "source": [
    "iris=load_iris()\n",
    "df=pd.DataFrame(data=iris.data,columns=iris.feature_names)\n",
    "target=iris.target"
   ]
  },
  {
   "cell_type": "code",
   "execution_count": 112,
   "id": "recognized-league",
   "metadata": {},
   "outputs": [
    {
     "data": {
      "text/html": [
       "<div>\n",
       "<style scoped>\n",
       "    .dataframe tbody tr th:only-of-type {\n",
       "        vertical-align: middle;\n",
       "    }\n",
       "\n",
       "    .dataframe tbody tr th {\n",
       "        vertical-align: top;\n",
       "    }\n",
       "\n",
       "    .dataframe thead th {\n",
       "        text-align: right;\n",
       "    }\n",
       "</style>\n",
       "<table border=\"1\" class=\"dataframe\">\n",
       "  <thead>\n",
       "    <tr style=\"text-align: right;\">\n",
       "      <th></th>\n",
       "      <th>sepal length (cm)</th>\n",
       "      <th>sepal width (cm)</th>\n",
       "      <th>petal length (cm)</th>\n",
       "      <th>petal width (cm)</th>\n",
       "    </tr>\n",
       "  </thead>\n",
       "  <tbody>\n",
       "    <tr>\n",
       "      <th>0</th>\n",
       "      <td>5.1</td>\n",
       "      <td>3.5</td>\n",
       "      <td>1.4</td>\n",
       "      <td>0.2</td>\n",
       "    </tr>\n",
       "    <tr>\n",
       "      <th>1</th>\n",
       "      <td>4.9</td>\n",
       "      <td>3.0</td>\n",
       "      <td>1.4</td>\n",
       "      <td>0.2</td>\n",
       "    </tr>\n",
       "    <tr>\n",
       "      <th>2</th>\n",
       "      <td>4.7</td>\n",
       "      <td>3.2</td>\n",
       "      <td>1.3</td>\n",
       "      <td>0.2</td>\n",
       "    </tr>\n",
       "    <tr>\n",
       "      <th>3</th>\n",
       "      <td>4.6</td>\n",
       "      <td>3.1</td>\n",
       "      <td>1.5</td>\n",
       "      <td>0.2</td>\n",
       "    </tr>\n",
       "    <tr>\n",
       "      <th>4</th>\n",
       "      <td>5.0</td>\n",
       "      <td>3.6</td>\n",
       "      <td>1.4</td>\n",
       "      <td>0.2</td>\n",
       "    </tr>\n",
       "  </tbody>\n",
       "</table>\n",
       "</div>"
      ],
      "text/plain": [
       "   sepal length (cm)  sepal width (cm)  petal length (cm)  petal width (cm)\n",
       "0                5.1               3.5                1.4               0.2\n",
       "1                4.9               3.0                1.4               0.2\n",
       "2                4.7               3.2                1.3               0.2\n",
       "3                4.6               3.1                1.5               0.2\n",
       "4                5.0               3.6                1.4               0.2"
      ]
     },
     "execution_count": 112,
     "metadata": {},
     "output_type": "execute_result"
    }
   ],
   "source": [
    "df.head()"
   ]
  },
  {
   "cell_type": "code",
   "execution_count": 113,
   "id": "lesser-impossible",
   "metadata": {},
   "outputs": [
    {
     "name": "stdout",
     "output_type": "stream",
     "text": [
      "shape =  (150, 4)\n"
     ]
    }
   ],
   "source": [
    "print(\"shape = \",df.shape)"
   ]
  },
  {
   "cell_type": "code",
   "execution_count": 114,
   "id": "falling-serum",
   "metadata": {},
   "outputs": [
    {
     "name": "stdout",
     "output_type": "stream",
     "text": [
      "explained_variance_ratio_ '(%)'= \n",
      "[72.962 22.851  3.669  0.518]\n",
      "\n",
      "cumulation of each component=\n",
      "[ 72.962  95.813  99.482 100.   ]\n",
      "\n",
      "由此可看出，其實第一個主成份(eigenvecctor 1 and eigenvalue 1)就可以解釋變異的95.8%\n",
      "從計算結果可以認為，採用2個主成份來描述資料就可以了\n"
     ]
    }
   ],
   "source": [
    "#ref url:https://scikit-learn.org/stable/modules/generated/sklearn.preprocessing.StandardScaler.html\n",
    "#ref url:https://scikit-learn.org/stable/modules/generated/sklearn.decomposition.PCA.html\n",
    "\n",
    "from sklearn.decomposition import PCA\n",
    "from sklearn.preprocessing import StandardScaler\n",
    "np.set_printoptions(precision=3)# set precision\n",
    "\n",
    "df=StandardScaler().fit_transform(df)#z = (x - u) / s\n",
    "pca=PCA(n_components=4)\n",
    "pca.fit(df)\n",
    "print(\"explained_variance_ratio_ '(%)'= \")\n",
    "variance_ratio=pca.explained_variance_ratio_\n",
    "variance_ratio=variance_ratio*100\n",
    "print(variance_ratio)\n",
    "print()\n",
    "print(\"cumulation of each component=\")\n",
    "print(np.cumsum(variance_ratio))\n",
    "\n",
    "print()\n",
    "#由此可看出，其實第一個主成份(eigenvecctor 1 and eigenvalue 1)就可以解釋變異的95.8%\n",
    "#從計算結果可以認為，採用兩個主成份來描述資料就可以了\n",
    "print(\"由此可看出，其實第一個主成份(eigenvecctor 1 and eigenvalue 1)就可以解釋變異的95.8%\")\n",
    "print(\"從計算結果可以認為，採用2個主成份來描述資料就可以了\")"
   ]
  },
  {
   "cell_type": "code",
   "execution_count": 115,
   "id": "accurate-rubber",
   "metadata": {},
   "outputs": [
    {
     "name": "stdout",
     "output_type": "stream",
     "text": [
      "shape of transformed_data =  (150, 2)\n",
      "\n",
      "由scatter plot 可以看出，經過PCA的轉換後，分類上已經很明顯的\n"
     ]
    },
    {
     "data": {
      "image/png": "[encoded data removed]",
      "text/plain": [
       "<Figure size 432x288 with 1 Axes>"
      ]
     },
     "metadata": {
      "needs_background": "light"
     },
     "output_type": "display_data"
    }
   ],
   "source": [
    "pca=PCA(n_components=2)\n",
    "pca.fit(df)\n",
    "transformed_data=pca.transform(df)\n",
    "print(\"shape of transformed_data = \",transformed_data.shape)\n",
    "print()\n",
    "ax=sns.scatterplot(x=transformed_data[:,0],y=transformed_data[:,1],hue=iris.target,palette=\"dark\",alpha=1)\n",
    "ax.set_xlabel(\"PCA1\")\n",
    "ax.set_ylabel(\"PCA2\")\n",
    "ax.set_title(\"Scatter plot for iris after transformed by PCA\")\n",
    "print(\"由scatter plot 可以看出，經過PCA的轉換後，分類上已經很明顯的\")"
   ]
  }
 ],
 "metadata": {
  "kernelspec": {
   "display_name": "Python 3",
   "language": "python",
   "name": "python3"
  },
  "language_info": {
   "codemirror_mode": {
    "name": "ipython",
    "version": 3
   },
   "file_extension": ".py",
   "mimetype": "text/x-python",
   "name": "python",
   "nbconvert_exporter": "python",
   "pygments_lexer": "ipython3",
   "version": "3.8.2"
  }
 },
 "nbformat": 4,
 "nbformat_minor": 5
}
