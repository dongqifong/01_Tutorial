{
 "metadata": {
  "language_info": {
   "codemirror_mode": {
    "name": "ipython",
    "version": 3
   },
   "file_extension": ".py",
   "mimetype": "text/x-python",
   "name": "python",
   "nbconvert_exporter": "python",
   "pygments_lexer": "ipython3",
   "version": "3.8.5-final"
  },
  "orig_nbformat": 2,
  "kernelspec": {
   "name": "python3",
   "display_name": "Python 3.8.5 64-bit ('base': conda)",
   "metadata": {
    "interpreter": {
     "hash": "593c0c41a94be97499a2eac94a25f3d053844850e8aeaf9a990745ffe43dc973"
    }
   }
  }
 },
 "nbformat": 4,
 "nbformat_minor": 2,
 "cells": [
  {
   "source": [
    "# **電商如何以A/B Test 驗證新網頁設計有效**\n",
    "\n",
    "數據 : ab_data.csv from Kaggle\n",
    "\n",
    "目標：在指定alpha=0.05,p1=0.12,p2=0.11,power=0.8的情況下\n",
    "決定\n",
    "\n",
    "1. reqired_n?\n",
    "\n",
    "2. 判斷是否有效?"
   ],
   "cell_type": "markdown",
   "metadata": {}
  },
  {
   "cell_type": "code",
   "execution_count": 19,
   "metadata": {},
   "outputs": [],
   "source": [
    "#import necesary library\n",
    "import numpy as np\n",
    "import pandas as pd\n",
    "import scipy.stats as stats\n",
    "import seaborn as sns\n",
    "from math import ceil"
   ]
  },
  {
   "cell_type": "code",
   "execution_count": 20,
   "metadata": {},
   "outputs": [
    {
     "output_type": "execute_result",
     "data": {
      "text/plain": [
       "   user_id                   timestamp      group landing_page  converted\n",
       "0   851104  2017-01-21 22:11:48.556739    control     old_page          0\n",
       "1   804228  2017-01-12 08:01:45.159739    control     old_page          0\n",
       "2   661590  2017-01-11 16:55:06.154213  treatment     new_page          0\n",
       "3   853541  2017-01-08 18:28:03.143765  treatment     new_page          0\n",
       "4   864975  2017-01-21 01:52:26.210827    control     old_page          1"
      ],
      "text/html": "<div>\n<style scoped>\n    .dataframe tbody tr th:only-of-type {\n        vertical-align: middle;\n    }\n\n    .dataframe tbody tr th {\n        vertical-align: top;\n    }\n\n    .dataframe thead th {\n        text-align: right;\n    }\n</style>\n<table border=\"1\" class=\"dataframe\">\n  <thead>\n    <tr style=\"text-align: right;\">\n      <th></th>\n      <th>user_id</th>\n      <th>timestamp</th>\n      <th>group</th>\n      <th>landing_page</th>\n      <th>converted</th>\n    </tr>\n  </thead>\n  <tbody>\n    <tr>\n      <th>0</th>\n      <td>851104</td>\n      <td>2017-01-21 22:11:48.556739</td>\n      <td>control</td>\n      <td>old_page</td>\n      <td>0</td>\n    </tr>\n    <tr>\n      <th>1</th>\n      <td>804228</td>\n      <td>2017-01-12 08:01:45.159739</td>\n      <td>control</td>\n      <td>old_page</td>\n      <td>0</td>\n    </tr>\n    <tr>\n      <th>2</th>\n      <td>661590</td>\n      <td>2017-01-11 16:55:06.154213</td>\n      <td>treatment</td>\n      <td>new_page</td>\n      <td>0</td>\n    </tr>\n    <tr>\n      <th>3</th>\n      <td>853541</td>\n      <td>2017-01-08 18:28:03.143765</td>\n      <td>treatment</td>\n      <td>new_page</td>\n      <td>0</td>\n    </tr>\n    <tr>\n      <th>4</th>\n      <td>864975</td>\n      <td>2017-01-21 01:52:26.210827</td>\n      <td>control</td>\n      <td>old_page</td>\n      <td>1</td>\n    </tr>\n  </tbody>\n</table>\n</div>"
     },
     "metadata": {},
     "execution_count": 20
    }
   ],
   "source": [
    "# Reading data\n",
    "raw_data=pd.read_csv('ab_data.csv')\n",
    "raw_data.head()"
   ]
  },
  {
   "cell_type": "code",
   "execution_count": 21,
   "metadata": {},
   "outputs": [
    {
     "output_type": "execute_result",
     "data": {
      "text/plain": [
       "637561    2\n",
       "821876    2\n",
       "643869    2\n",
       "938802    2\n",
       "916765    2\n",
       "         ..\n",
       "710897    1\n",
       "708848    1\n",
       "665839    1\n",
       "663790    1\n",
       "630836    1\n",
       "Name: user_id, Length: 290584, dtype: int64"
      ]
     },
     "metadata": {},
     "execution_count": 21
    }
   ],
   "source": [
    "#check unique\n",
    "raw_data['user_id'].value_counts()"
   ]
  },
  {
   "cell_type": "code",
   "execution_count": 22,
   "metadata": {},
   "outputs": [
    {
     "output_type": "stream",
     "name": "stdout",
     "text": [
      "effect size=\t 0.031352702218681694\nrequired n=\t 15970\n"
     ]
    }
   ],
   "source": [
    "# Decide the effect_size base on prob.1 and prob.2\n",
    "import statsmodels.stats.api as sms\n",
    "prob1=0.12\n",
    "prob2=0.11\n",
    "effect_size=sms.proportion_effectsize(prob1,prob2)\n",
    "print('effect size=\\t',effect_size)\n",
    "# Decide reuqired number of sample\n",
    "reuqired_n=sms.NormalIndPower().solve_power(effect_size=effect_size,power=0.8,alpha=0.05,ratio=1)\n",
    "reuqired_n=ceil(reuqired_n)\n",
    "print('required n=\\t',reuqired_n)"
   ]
  },
  {
   "cell_type": "code",
   "execution_count": 23,
   "metadata": {},
   "outputs": [],
   "source": [
    "data=raw_data.drop_duplicates(subset=['user_id'],keep=False)"
   ]
  },
  {
   "cell_type": "code",
   "execution_count": 24,
   "metadata": {},
   "outputs": [],
   "source": [
    "#seperate into \"control\" and \"treatment\"\n",
    "control=data[data['group']=='control']\n",
    "treatment=data[data['group']=='treatment']\n",
    "\n",
    "control_sample=control.sample(reuqired_n,random_state=22)\n",
    "treatment_sample=treatment.sample(reuqired_n,random_state=22)"
   ]
  },
  {
   "cell_type": "code",
   "execution_count": 31,
   "metadata": {},
   "outputs": [
    {
     "output_type": "stream",
     "name": "stdout",
     "text": [
      "   user_id                   timestamp    group landing_page  converted\n0   763854  2017-01-21 03:43:17.188315  control     old_page          0\n1   690555  2017-01-18 06:38:13.079449  control     old_page          0\n2   861520  2017-01-06 21:13:40.044766  control     old_page          0\n3   630778  2017-01-05 16:42:36.995204  control     old_page          0\n4   656634  2017-01-04 15:31:21.676130  control     old_page          0\n5   846354  2017-01-12 17:34:33.014616  control     old_page          0\n6   879802  2017-01-15 15:26:31.018326  control     old_page          0\n7   860778  2017-01-12 00:49:32.771388  control     old_page          0\n8   630816  2017-01-13 08:43:01.536244  control     old_page          0\n9   889771  2017-01-03 00:55:02.444223  control     old_page          0\n"
     ]
    }
   ],
   "source": [
    "ab_test_data=pd.concat([control_sample,treatment_sample])\n",
    "ab_test_data=ab_test_data.reset_index(drop=True)\n",
    "print(ab_test_data.head(10))"
   ]
  },
  {
   "cell_type": "code",
   "execution_count": 26,
   "metadata": {},
   "outputs": [],
   "source": [
    "#以函數計算z_stat, pval, confidence interval\n",
    "\n",
    "control_reuslt=ab_test_data[ab_test_data['group']=='control']['converted']\n",
    "treatment_result=ab_test_data[ab_test_data['group']=='treatment']['converted']\n",
    "\n",
    "n_control=control_reuslt.count()\n",
    "n_treatment=treatment_result.count()"
   ]
  },
  {
   "cell_type": "code",
   "execution_count": 27,
   "metadata": {},
   "outputs": [
    {
     "output_type": "stream",
     "name": "stdout",
     "text": [
      "[1932, 1928]\n[15970, 15970]\n"
     ]
    }
   ],
   "source": [
    "successes=[control_reuslt.sum(),treatment_result.sum()]\n",
    "nobs=[n_control,n_treatment]\n",
    "print(successes)\n",
    "print(nobs)"
   ]
  },
  {
   "cell_type": "code",
   "execution_count": 28,
   "metadata": {},
   "outputs": [],
   "source": [
    "from statsmodels.stats.proportion import proportion_confint, proportions_ztest\n",
    "#計算z, p-value\n",
    "z_stat,pval=proportions_ztest(count=successes,nobs=nobs)\n",
    "#計算信賴區間\n",
    "(lcl_control,lcl_treatment),(ucl_control,ucl_treatment)=proportion_confint(count=successes,nobs=nobs)"
   ]
  },
  {
   "cell_type": "code",
   "execution_count": 29,
   "metadata": {},
   "outputs": [
    {
     "output_type": "stream",
     "name": "stdout",
     "text": [
      "('z_stat','pval')=(0.069,0.945)\nci 95% for control group: (LCL,UCL)=[0.116,0.126]\nci 95% for treatment group: (LCL,UCL)=[0.116,0.126]\n>>>>>>>> 效果不顯著 <<<<<<<<\n"
     ]
    }
   ],
   "source": [
    "print(\"('z_stat','pval')=({0:.3f},{1:.3f})\".format(z_stat,pval))\n",
    "print(\"ci 95% for control group: (LCL,UCL)=[{0:.3f},{1:.3f}]\".format(lcl_control,ucl_control))\n",
    "print(\"ci 95% for treatment group: (LCL,UCL)=[{0:.3f},{1:.3f}]\".format(lcl_treatment,ucl_treatment))\n",
    "print('>>>>>>>> 效果不顯著 <<<<<<<<')"
   ]
  },
  {
   "cell_type": "code",
   "execution_count": null,
   "metadata": {},
   "outputs": [],
   "source": []
  }
 ]
}