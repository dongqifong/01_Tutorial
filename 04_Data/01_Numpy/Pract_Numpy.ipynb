{
 "metadata": {
  "language_info": {
   "codemirror_mode": {
    "name": "ipython",
    "version": 3
   },
   "file_extension": ".py",
   "mimetype": "text/x-python",
   "name": "python",
   "nbconvert_exporter": "python",
   "pygments_lexer": "ipython3",
   "version": "3.8.5-final"
  },
  "orig_nbformat": 2,
  "kernelspec": {
   "name": "python3",
   "display_name": "Python 3.8.5 64-bit ('py38_data': conda)",
   "metadata": {
    "interpreter": {
     "hash": "1606c7c53c2cf95b63f3b5e0b1da62aa23bd9a1bd9d678180ba4366a39e521ef"
    }
   }
  }
 },
 "nbformat": 4,
 "nbformat_minor": 2,
 "cells": [
  {
   "source": [
    "# 1 Numpy 操作\n",
    "1.生成一個等差數列，首數為0，尾數為20，公差為1的數列。\n",
    "\n",
    "2.呈上題，將以上數列取出偶數。\n",
    "\n",
    "3.呈1題，將數列取出3的倍數。"
   ],
   "cell_type": "markdown",
   "metadata": {}
  },
  {
   "cell_type": "code",
   "execution_count": 73,
   "metadata": {},
   "outputs": [
    {
     "output_type": "stream",
     "name": "stdout",
     "text": [
      "array1= [ 0  1  2  3  4  5  6  7  8  9 10 11 12 13 14 15 16 17 18 19 20]\narray2= [ 0  2  4  6  8 10 12 14 16 18 20]\narray3= [ 3  6  9 12 15 18]\n"
     ]
    }
   ],
   "source": [
    "import numpy as np\n",
    "# 1.生成一個等差數列，首數為0，尾數為20，公差為1的數列。\n",
    "array1=np.arange(0,21)\n",
    "# 2.呈上題，將以上數列取出偶數。\n",
    "array2=array1[::2]\n",
    "# 3.呈1題，將數列取出3的倍數。\n",
    "array3=array1[3::3]\n",
    "print(\"array1=\",array1)\n",
    "print(\"array2=\",array2)\n",
    "print(\"array3=\",array3)"
   ]
  },
  {
   "source": [
    "# 2  陣列運算及數學\n",
    "\n",
    "1.將下列陣列(array1)，轉成維度為(5X6)的array，順序按列填充。(hint:order=\"F\")\n",
    "\n",
    "2.呈上題的array，找出被6除餘1的數的索引"
   ],
   "cell_type": "markdown",
   "metadata": {}
  },
  {
   "cell_type": "code",
   "execution_count": 74,
   "metadata": {},
   "outputs": [
    {
     "output_type": "stream",
     "name": "stdout",
     "text": [
      "[[ 0  5 10 15 20 25]\n [ 1  6 11 16 21 26]\n [ 2  7 12 17 22 27]\n [ 3  8 13 18 23 28]\n [ 4  9 14 19 24 29]]\n(array([0, 1, 2, 3, 4]), array([5, 0, 1, 2, 3]))\n"
     ]
    }
   ],
   "source": [
    "import numpy as np\n",
    "# 1.將下列陣列(array1)，轉成維度為(5X6)的array，順序按列填充。\n",
    "array1=np.array(range(30))\n",
    "reshape_array=array1.reshape(5,6,order=\"F\")\n",
    "print(reshape_array)\n",
    "# 2.呈上題的array，找出被6除餘1的數的索引\n",
    "target_index=np.where(reshape_array%6==1)\n",
    "print(target_index)"
   ]
  },
  {
   "source": [
    "# 3\n",
    "1.正常的談話的聲壓為20000微巴斯卡，請問多少分貝?\n",
    "\n",
    "2.30分貝的聲壓會是50分貝的幾倍?"
   ],
   "cell_type": "markdown",
   "metadata": {}
  },
  {
   "cell_type": "code",
   "execution_count": 75,
   "metadata": {},
   "outputs": [
    {
     "output_type": "stream",
     "name": "stdout",
     "text": [
      "60.0\n0.09999999999999999\n"
     ]
    }
   ],
   "source": [
    "import numpy as np\n",
    "# 1.正常的談話的聲壓為20000微巴斯卡，請問多少分貝?\n",
    "V1=20000\n",
    "V0=20\n",
    "db=20*np.log10(V1/V0)\n",
    "print(db)\n",
    "# 2.30分貝的聲壓會是50分貝的幾倍?\n",
    "V1_30=10**(30/20)*V0\n",
    "V1_50=10**(50/20)*V0\n",
    "ratio=V1_30/V1_50\n",
    "print(ratio)"
   ]
  },
  {
   "source": [
    "# 4 陣列邏輯函數\n",
    "\n",
    "english_score = np.array([55,89,76,65,48,70])\n",
    "\n",
    "math_score = np.array([60,85,60,68,55,60])\n",
    "\n",
    "chinese_score = np.array([65,90,82,72,66,77])\n",
    "\n",
    "上3列共六位同學的英文、數學、國文成績，第一個元素代表第一位同學，舉例第一位同學英文55分、數學60分、國文65分，運用上列數據回答下列問題。\n",
    "\n",
    "有多少學生英文成績比數學成績高?\n",
    "\n",
    "是否全班同學最高分都是國文?"
   ],
   "cell_type": "markdown",
   "metadata": {}
  },
  {
   "cell_type": "code",
   "execution_count": 76,
   "metadata": {},
   "outputs": [
    {
     "output_type": "stream",
     "name": "stdout",
     "text": [
      "3\n[ True  True  True  True  True False]\nFalse\n"
     ]
    }
   ],
   "source": [
    "import numpy as np\n",
    "english_score = np.array([55,89,76,65,48,70])\n",
    "math_score = np.array([60,85,60,68,55,60])\n",
    "chinese_score = np.array([65,90,82,72,66,70])\n",
    "#有多少學生英文成績比數學成績高?\n",
    "en_greater_math=np.greater(english_score,math_score)\n",
    "count=np.sum(en_greater_math)\n",
    "print(count)\n",
    "#是否全班同學最高分都是國文?\n",
    "ch_greater_en=np.greater(chinese_score,english_score)\n",
    "ch_greater_math=np.greater(chinese_score,math_score)\n",
    "And_compare=np.logical_and(ch_greater_en,ch_greater_math)\n",
    "result=And_compare.all()\n",
    "print(And_compare)\n",
    "print(result)"
   ]
  },
  {
   "source": [
    "# 5 統計函數\n",
    "english_score = np.array([55,89,76,65,48,70])\n",
    "\n",
    "math_score = np.array([60,85,60,68,np.nan,60])\n",
    "\n",
    "chinese_score = np.array([65,90,82,72,66,77])\n",
    "\n",
    "上3列共六位同學的英文、數學、國文成績，第一個元素代表第一位同學，舉例第一位同學英文55分、數學60分、國文65分，今天第五位同學因某原因沒來考試，導致數學成績缺值，運用上列數據回答下列問題。\n",
    "\n",
    "請計算各科成績平均、最大值、最小值、標準差，其中數學缺一筆資料可忽略?\n",
    "\n",
    "第五位同學補考數學後成績為55，請計算補考後數學成績平均、最大值、最小值、標準差?\n",
    "\n",
    "用補考後資料找出與國文成績相關係數最高的學科?\n"
   ],
   "cell_type": "markdown",
   "metadata": {}
  },
  {
   "cell_type": "code",
   "execution_count": 77,
   "metadata": {},
   "outputs": [
    {
     "output_type": "stream",
     "name": "stdout",
     "text": [
      "avg= [67.167 66.6   75.333]\nmax= [89. 85. 90.]\nmin= [48. 60. 65.]\nstd= [13.434  9.708  8.825]\n\navg_math= 64.667\nmax_math= 85.0\nmin_math= 55.0\nstd_math= 9.86\n\ncorrelation of chinese and math= 0.741\ncorrelation of chinese and english= 0.978\n\n[[1.    0.741 0.978]\n [0.741 1.    0.786]\n [0.978 0.786 1.   ]]\n"
     ]
    }
   ],
   "source": [
    "import numpy as np\n",
    "english_score = np.array([55,89,76,65,48,70])\n",
    "math_score = np.array([60,85,60,68,np.nan,60])\n",
    "chinese_score = np.array([65,90,82,72,66,77])\n",
    "#請計算各科成績平均、最大值、最小值、標準差，其中數學缺一筆資料可忽略?\n",
    "avg_score=[np.mean(english_score),np.nanmean(math_score),np.mean(chinese_score)]\n",
    "max_score=[np.max(english_score),np.nanmax(math_score),np.max(chinese_score)]\n",
    "min_score=[np.min(english_score),np.nanmin(math_score),np.min(chinese_score)]\n",
    "std_score=[np.std(english_score),np.nanstd(math_score),np.std(chinese_score)]\n",
    "print('avg=',np.round(avg_score,3))\n",
    "print('max=',np.round(max_score,3))\n",
    "print('min=',np.round(min_score,3))\n",
    "print('std=',np.round(std_score,3))\n",
    "print()\n",
    "#第五位同學補考數學後成績為55，請計算補考後數學成績平均、最大值、最小值、標準差?\n",
    "math_score[4]=55\n",
    "avg_math=np.mean(math_score)\n",
    "max_math=np.max(math_score)\n",
    "min_math=np.min(math_score)\n",
    "std_math=np.std(math_score)\n",
    "print('avg_math=',np.round(avg_math,3))\n",
    "print('max_math=',np.round(max_math,3))\n",
    "print('min_math=',np.round(min_math,3))\n",
    "print('std_math=',np.round(std_math,3))\n",
    "print()\n",
    "#用補考後資料找出與國文成績相關係數最高的學科?\n",
    "corr_ch_math=np.corrcoef((chinese_score,math_score))[0][1]\n",
    "corr_ch_en=np.corrcoef((chinese_score,english_score))[0][1]\n",
    "print(\"correlation of chinese and math=\",np.round(corr_ch_math,3))\n",
    "print(\"correlation of chinese and english=\",np.round(corr_ch_en,3))\n",
    "print()\n",
    "\n",
    "print(np.round(np.corrcoef((chinese_score,math_score,english_score)),3))"
   ]
  },
  {
   "source": [
    "# 7 線性代數應用\n",
    "array1 = np.array([[10, 8], [3, 5]]) \n",
    "\n",
    "運用上列array計算反矩陣，乘上原矩陣，並觀察是否為單位矩陣?\n",
    "\n",
    "運用上列array計算特徵值、特徵向量?\n",
    "\n",
    "運用上列array計算SVD?"
   ],
   "cell_type": "markdown",
   "metadata": {}
  },
  {
   "cell_type": "code",
   "execution_count": 78,
   "metadata": {},
   "outputs": [
    {
     "output_type": "stream",
     "name": "stdout",
     "text": [
      "#1\ninverse of array1=\n[[ 0.19230769 -0.30769231]\n [-0.11538462  0.38461538]]\n\nmult_array1_in=\n[[1. 0.]\n [0. 1.]]\n\n#2\neigen value= [13.  2.]\neig_vec=\n[[ 0.93632918 -0.70710678]\n [ 0.35112344  0.70710678]]\n\nvector1= [0.93632918 0.35112344]\ncorrospond with eigen value= 13.0\n\n#3\nu=\n[[-0.91663818 -0.39971796]\n [-0.39971796  0.91663818]]\n\ns=\n[13.94721714  1.86417116]\n\nvh=\n[[-0.74319741 -0.6690722 ]\n [-0.6690722   0.74319741]]\n\n"
     ]
    }
   ],
   "source": [
    "import numpy as np\n",
    "import numpy.linalg as la\n",
    "#運用上列array計算反矩陣，乘上原矩陣，並觀察是否為單位矩陣?\n",
    "print(\"#1\")\n",
    "array1=np.array([[10, 8], [3, 5]])\n",
    "inv_array1=la.inv(array1)\n",
    "mult_array1_in=np.dot(array1,inv_array1)\n",
    "print('inverse of array1=')\n",
    "print(inv_array1)\n",
    "print()\n",
    "print('mult_array1_in=')\n",
    "print(mult_array1_in)\n",
    "#運用上列array計算特徵值、特徵向量?\n",
    "print(\"\\n#2\")\n",
    "eig_val,eig_vec=la.eig(array1)\n",
    "print(\"eigen value=\",eig_val)\n",
    "print(\"eig_vec=\")\n",
    "print(eig_vec)\n",
    "print()\n",
    "print(\"vector1=\",eig_vec[:,0])\n",
    "print(\"corrospond with eigen value=\",eig_val[0])\n",
    "#運用上列array計算SVD?\n",
    "print(\"\\n#3\")\n",
    "u,s,vh=la.svd(array1)\n",
    "print(\"u=\")\n",
    "print(u)\n",
    "print()\n",
    "print(\"s=\")\n",
    "print(s)\n",
    "print()\n",
    "print(\"vh=\")\n",
    "print(vh)\n",
    "print()"
   ]
  },
  {
   "cell_type": "code",
   "execution_count": 79,
   "metadata": {},
   "outputs": [
    {
     "output_type": "stream",
     "name": "stdout",
     "text": [
      "[('', '', 0., 0, False) ('', '', 0., 0, False) ('', '', 0., 0, False)\n ('', '', 0., 0, False) ('', '', 0., 0, False) ('', '', 0., 0, False)\n ('', '', 0., 0, False) ('', '', 0., 0, False)]\n#1\n('小明', 'boy', 67.5, 8, True)\n\n#2\n69.8375\n\n#3\n77.18333333333332\n\n#3-2\n47.8\n"
     ]
    }
   ],
   "source": [
    "'''結構化陣列\n",
    "name_list = ['小明','小華','小菁','小美','小張','John','Mark','Tom']\n",
    "sex_list = ['boy','boy','girl','girl','boy','boy','boy','boy']\n",
    "weight_list = [67.5,75.3,50.1,45.5,80.8,90.4,78.4,70.7]\n",
    "rank_list = [8,1,5,4,7,6,2,3]\n",
    "myopia_list = [True,True,False,False,True,True,False,False]\n",
    "\n",
    "將上列list依照['name', 'sex', 'weight', 'rank', 'myopia']順序擺入array，並且資料型態順序擺入[Unicode,Unicode,float,int,boolean]\n",
    "呈上題，將array中體重(weight)數據集取出算出全部平均體重\n",
    "呈上題，進一步算出男生(sex欄位是boy)平均體重、女生(sex欄位是girl)平均體重\n",
    "'''\n",
    "import numpy as np \n",
    "name_list = ['小明','小華','小菁','小美','小張','John','Mark','Tom']\n",
    "sex_list = ['boy','boy','girl','girl','boy','boy','boy','boy']\n",
    "weight_list = [67.5,75.3,50.1,45.5,80.8,90.4,78.4,70.7]\n",
    "rank_list = [8,1,5,4,7,6,2,3]\n",
    "myopia_list = [True,True,False,False,True,True,False,False]\n",
    "\n",
    "#1. 將上列list依照['name', 'sex', 'weight', 'rank', 'myopia']順序擺入array，\n",
    "# 並且資料型態順序擺入[Unicode,Unicode,float,int,boolean]\n",
    "student_type = {'names':('name', 'sex', 'weight', 'rank', 'myopia'), 'formats':('U10','U6','f8','i4','?')}\n",
    "students = np.zeros(8,dtype=student_type)\n",
    "print(students)\n",
    "students['name'] = name_list\n",
    "students['sex'] = sex_list\n",
    "students['weight'] = weight_list\n",
    "students['rank'] = rank_list\n",
    "students['myopia'] = myopia_list\n",
    "print(\"#1\")\n",
    "print(students[0])\n",
    "#2. 呈上題，將array中體重(weight)數據集取出算出全部平均體重\n",
    "avg_weight=np.mean(students['weight'])\n",
    "print(\"\\n#2\")\n",
    "print(avg_weight)\n",
    "#3. 呈上題，進一步算出男生(sex欄位是boy)平均體重\n",
    "boy_index = np.where(students['sex']=='boy')[0]\n",
    "boy_weight_avg=np.mean(students['weight'][boy_index])\n",
    "print(\"\\n#3\")\n",
    "print(boy_weight_avg)\n",
    "#3. 呈上題，進一步算出女生(sex欄位是girl)平均體重\n",
    "girl_index = np.where(students['sex']=='girl')[0]\n",
    "girl_weight_avg=np.mean(students['weight'][girl_index])\n",
    "print(\"\\n#3-2\")\n",
    "print(girl_weight_avg)"
   ]
  },
  {
   "cell_type": "code",
   "execution_count": null,
   "metadata": {},
   "outputs": [],
   "source": []
  }
 ]
}