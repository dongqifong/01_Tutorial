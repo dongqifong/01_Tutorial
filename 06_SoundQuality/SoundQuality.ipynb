{
 "cells": [
  {
   "cell_type": "markdown",
   "id": "1cb18dae-9966-4e3a-90b7-5d22af1b4a95",
   "metadata": {},
   "source": [
    "# Sound quality index"
   ]
  },
  {
   "cell_type": "markdown",
   "id": "5b821eca-25b3-4603-b3c9-fbe5449ea6ee",
   "metadata": {
    "tags": []
   },
   "source": [
    "## 聲壓位準(SPL)\n",
    "\n",
    "1. 麥克風所收到的**聲音訊號和人耳能夠接收到的最小值的相對值**\n",
    "\n",
    "    $SPL$ = $20log_{10}(\\frac{P_{rms}}{P_{ref}})$\n",
    "\n",
    "    $P_{rms}$: P(t)的方均根植，也稱為有效聲壓(effective sound pressure)\n",
    "\n",
    "    $P_{ref}$: 人耳能感知的最小壓力值(20$\\mu Pa$)\n",
    "\n",
    "    Standard sensitivity of microphone: 46.44mv/Pa\n",
    "    \n",
    "    Unit: dB or dBA\n",
    "\n",
    "2. 不同音源的SPL疊加\n",
    "\n",
    "    $SPL_{s}$ = $10log_{10}(\\Sigma{10^{\\frac{SPL_i}{10}}})$\n",
    "    \n",
    "3. 三分之一八音頻帶(1/3 Octave band)\n",
    "\n",
    "    在0~20k Hz間，切分不同頻帶，每個頻帶的上限頻率/下限頻率為2的立方根，$\\frac{f_u}{f_l}$=$2^{1/3}$\n",
    "    \n",
    "    中心頻帶為上限頻率和下限平率成績的平方根，$f_c = \\sqrt{f_uf_l}$\n",
    "    \n",
    "    <img src=\"images/spl.PNG\" width=\"70%\" />\n",
    "    \n",
    "4. dB to dBA\n",
    "\n",
    "    將原本所有的$SPL_i$做總和前，先用以A-Weight權重增益其值，再做加總。\n",
    "    \n",
    "    $SPL_{s}$ = $10log_{10}(\\Sigma_{i=1}^{n}{10^{\\frac{SPL_i+weight}{10}}})$\n",
    "    \n",
    "    <img src=\"https://acousticalengineer.com/wp-content/uploads/2019/07/A-weighting.jpg\" width=\"50%\" />\n",
    "    \n",
    "    source: https://acousticalengineer.com/a-weighting-table/"
   ]
  },
  {
   "cell_type": "markdown",
   "id": "832cb178-7a7a-4912-9975-f97deb62636e",
   "metadata": {},
   "source": [
    "## Prominence Ratio (dB)"
   ]
  },
  {
   "cell_type": "markdown",
   "id": "14163e33-8b10-4456-bb14-cef71695449f",
   "metadata": {},
   "source": [
    "## Modulation(%):"
   ]
  },
  {
   "cell_type": "markdown",
   "id": "1cb63e51-16ec-4019-bbbe-e859aefed5f0",
   "metadata": {},
   "source": [
    "## Reference:\n",
    "\n",
    "1. https://acousticalengineer.com/a-weighting-table/\n",
    "\n",
    "2. http://aitanvh.blogspot.com/2017/05/blog-post.html\n",
    "\n",
    "3. http://aitanvh.blogspot.com/2018/01/blog-post_22.html?m=0\n",
    "\n",
    "4. https://www.linuxdataacquisition.com/docs/tn257.pdf\n",
    "\n",
    "5. http://www.pal-acoustics.com/index.php?a=services&id=109&lang=cn"
   ]
  },
  {
   "cell_type": "code",
   "execution_count": null,
   "id": "ce73c2ac-30dc-4fb2-87d8-b868e146210e",
   "metadata": {},
   "outputs": [],
   "source": []
  }
 ],
 "metadata": {
  "kernelspec": {
   "display_name": "Python 3",
   "language": "python",
   "name": "python3"
  },
  "language_info": {
   "codemirror_mode": {
    "name": "ipython",
    "version": 3
   },
   "file_extension": ".py",
   "mimetype": "text/x-python",
   "name": "python",
   "nbconvert_exporter": "python",
   "pygments_lexer": "ipython3",
   "version": "3.8.10"
  }
 },
 "nbformat": 4,
 "nbformat_minor": 5
}
