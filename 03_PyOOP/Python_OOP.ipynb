{
 "cells": [
  {
   "cell_type": "markdown",
   "id": "initial-convertible",
   "metadata": {},
   "source": [
    "## 物件導向介紹\n",
    "\n",
    "1. [繼承(Inheritance)](#1)\n",
    "\n",
    "2. [覆寫(Override)](#2)\n",
    "\n",
    "3. [多重繼承(Multiple Inheritance)](#3)\n",
    "\n",
    "4. [多層繼承(Multilevel Inheritance)](#4)\n",
    "\n",
    "5. [多載(Overloading)](#5)\n",
    "\n",
    "6. [多型(Polymorphism)](#6)\n",
    "\n",
    "7. [封裝(Encapsulation)](#7)"
   ]
  },
  {
   "cell_type": "markdown",
   "id": "southwest-ordinary",
   "metadata": {},
   "source": [
    "<div id=1> </div>\n",
    "    \n",
    "# 繼承(Inheritance)\n",
    "\n",
    "子類別透過繼承的動作，擁有父類別結構的行為"
   ]
  },
  {
   "cell_type": "code",
   "execution_count": 196,
   "id": "political-reply",
   "metadata": {},
   "outputs": [],
   "source": [
    "#建立一個父類別叫做Transportation\n",
    "class Transportation:\n",
    "    # constructor\n",
    "    def __init__(self):\n",
    "        self.name=\"Transportation\"\n",
    "        self.color=\"Null\"\n",
    "        \n",
    "    # member function\n",
    "    def call_name(self):\n",
    "        print(\"call_name: \",self.name)\n",
    "        \n",
    "    # member function\n",
    "    def get_color(self):\n",
    "        print(\"color = \",self.color)\n",
    "        \n",
    "    # member function\n",
    "    def power(self):\n",
    "        print(\"Not define\")"
   ]
  },
  {
   "cell_type": "code",
   "execution_count": 197,
   "id": "crude-samoa",
   "metadata": {},
   "outputs": [
    {
     "name": "stdout",
     "output_type": "stream",
     "text": [
      "call_name:  Transportation\n"
     ]
    }
   ],
   "source": [
    "T=Transportation()\n",
    "T.call_name()"
   ]
  },
  {
   "cell_type": "code",
   "execution_count": 198,
   "id": "optional-height",
   "metadata": {},
   "outputs": [],
   "source": [
    "# 建立兩個子類別為 Bus\n",
    "# 同時繼承Transportation的屬性和方法\n",
    "\n",
    "# 但同時想新增自己專有的屬性n_tire --> \n",
    "# 靠super()呼叫父類別方法＋再在__init__下面新增自己的專有屬性\n",
    "\n",
    "#新增自己專有的方法accelerate\n",
    "\n",
    "class Bus(Transportation):\n",
    "    # constructor\n",
    "    def __init__(self,n_tire):\n",
    "        # 因為想要繼承父類別__init__()的屬性和方法，\n",
    "        # 但又想要再額外新增自己特有的屬性tire\n",
    "        \n",
    "        # 所以透過super來同時執行父類別的方法，其後因為名稱同父類別，\n",
    "        # 再進行改寫得到新增自己屬性的目的\n",
    "        super().__init__()\n",
    "        self.n_tire=n_tire\n",
    "        \n",
    "    def set_color(self,color):\n",
    "        self.color=color\n",
    "        \n",
    "    def accelerate(self):\n",
    "        print(\"Bus accelerate\")\n",
    "        \n",
    "    def get_n_tire(self):\n",
    "        print(\"輪胎數目 = \",self.n_tire)"
   ]
  },
  {
   "cell_type": "code",
   "execution_count": 199,
   "id": "distinguished-silly",
   "metadata": {},
   "outputs": [
    {
     "name": "stdout",
     "output_type": "stream",
     "text": [
      "第一次呼叫Bus的call_name\n",
      "call_name:  Transportation\n",
      "\n",
      "更改了屬性name和color後，在呼叫一次繼承的call_name方法\n",
      "call_name:  Bus\n",
      "\n",
      "呼叫Bus自己獨有的方法\n",
      "Bus accelerate\n",
      "\n",
      "呼叫Bus類別中的set_color來更改color屬性\n",
      "color =  Red\n",
      "\n",
      "呼叫Bus類別中的get_n_tire獲得輪胎數\n"
     ]
    }
   ],
   "source": [
    "\n",
    "# 繼承Transportation後，Bus也同時繼承了屬性和方法，可以不需要在新建一次__init_\n",
    "print(\"第一次呼叫Bus的call_name\")\n",
    "b=Bus(4)\n",
    "b.call_name()# call_name:  Transportation\n",
    "\n",
    "# 因為有繼承到屬性和方法，所以可以直接更改繼承的屬性，\n",
    "# 呼叫繼承的方法也可以看到改變後的狀態\n",
    "print()\n",
    "print(\"更改了屬性name和color後，在呼叫一次繼承的call_name方法\")\n",
    "b.name=\"Bus\"\n",
    "b.call_name()# call_name:  Bus\n",
    "\n",
    "# 呼叫Bus自己獨有的方法\n",
    "print()\n",
    "print(\"呼叫Bus自己獨有的方法\")\n",
    "b.accelerate()# Bus accelerate\n",
    "\n",
    "\n",
    "# 呼叫Bus類別中的set_color來更改color屬性\n",
    "print()\n",
    "print(\"呼叫Bus類別中的set_color來更改color屬性\")\n",
    "b.set_color(\"Red\")\n",
    "# 呼叫父類別的get_color來得到剛剛設定的顏色\n",
    "b.get_color()\n",
    "\n",
    "# 呼叫Bus類別中的get_n_tire獲得輪胎數\n",
    "print()\n",
    "print(\"呼叫Bus類別中的get_n_tire獲得輪胎數\")\n",
    "# b.get_n_tire()"
   ]
  },
  {
   "cell_type": "markdown",
   "id": "sudden-affect",
   "metadata": {},
   "source": [
    "<div STYLE=\"page-break-after: always;\"></div>"
   ]
  },
  {
   "cell_type": "markdown",
   "id": "painful-worst",
   "metadata": {},
   "source": [
    "<div id=2> </div>\n",
    "\n",
    "# 覆寫(Override)\n",
    "以相同的方法名稱撰寫不同的內容可以達到覆寫的作用"
   ]
  },
  {
   "cell_type": "code",
   "execution_count": 200,
   "id": "editorial-adaptation",
   "metadata": {},
   "outputs": [
    {
     "name": "stdout",
     "output_type": "stream",
     "text": [
      "call_name:  Car\n",
      "I use gasoline as Power\n"
     ]
    }
   ],
   "source": [
    "# 同上面，在Car class中，若想呼叫父類別的方法，可以使用super\n",
    "class Car(Transportation):\n",
    "    def power(self):\n",
    "        self.name=\"Car\"#因為繼承了name屬性，可以直接更改\n",
    "        super().call_name()#呼叫父類別的call_name方法\n",
    "        print(\"I use gasoline as Power\")\n",
    "c=Car()\n",
    "c.power()"
   ]
  },
  {
   "cell_type": "markdown",
   "id": "rolled-month",
   "metadata": {},
   "source": [
    "<div STYLE=\"page-break-after: always;\"></div>"
   ]
  },
  {
   "cell_type": "markdown",
   "id": "together-denial",
   "metadata": {},
   "source": [
    "<div id=3> </div>\n",
    "\n",
    "# 多重繼承(Multiple Inheritance)\n",
    "子類別繼承超過一種以上的類別"
   ]
  },
  {
   "cell_type": "code",
   "execution_count": 201,
   "id": "environmental-taiwan",
   "metadata": {},
   "outputs": [
    {
     "name": "stdout",
     "output_type": "stream",
     "text": [
      "I'm Scissor, my function is  cut\n"
     ]
    }
   ],
   "source": [
    "# 建立父類別一\n",
    "class Tool:\n",
    "    def __init__(self):\n",
    "        self.material=\"metal\"\n",
    "    def Tool_method(self):\n",
    "        print(\"Tool method\")\n",
    "        \n",
    "# 建立父類別二\n",
    "class Function:\n",
    "    def __init__(self):\n",
    "        self.func=None\n",
    "    def set_func(self,func):\n",
    "        self.func=func\n",
    "        \n",
    "# 子類別Scissor繼承父類別Tool和Function\n",
    "class Scissor(Tool,Function):\n",
    "    def get_func(self):\n",
    "        #因為從Function繼承了func屬性，可以直接呼叫\n",
    "        print(\"I'm Scissor, my function is \",self.func)\n",
    "s=Scissor()\n",
    "s.set_func(\"cut\")\n",
    "s.get_func()"
   ]
  },
  {
   "cell_type": "markdown",
   "id": "acceptable-writing",
   "metadata": {},
   "source": [
    "<div STYLE=\"page-break-after: always;\"></div>"
   ]
  },
  {
   "cell_type": "markdown",
   "id": "organized-harassment",
   "metadata": {},
   "source": [
    "<div id=4> </div>\n",
    "\n",
    "# 多層繼承(Multilevel Inheritance)\n",
    "父類別也是繼承其他類別而來，層數超過一層的繼承方式"
   ]
  },
  {
   "cell_type": "code",
   "execution_count": 202,
   "id": "welcome-weapon",
   "metadata": {},
   "outputs": [],
   "source": [
    "class Transp:\n",
    "    def __init__(self):\n",
    "        self.name=None\n",
    "        self.color=None\n",
    "        self.material=None\n",
    "    def build(self):\n",
    "        # pass 表示這個方法不做任何回傳值，只是供給未來繼承者覆寫使用\n",
    "        print(\"Do nothing\")\n",
    "        pass\n",
    "    def go(self):\n",
    "        # pass 表示這個方法不做任何回傳值，只是供給未來繼承者覆寫使用\n",
    "        print(\"Do nothing\")\n",
    "        pass\n",
    "    \n",
    "class A_Car(Transp):\n",
    "    def __init__(self):\n",
    "        super().__init__()\n",
    "        self.n_tire=None\n",
    "        \n",
    "    def set_material(self,m):\n",
    "        self.material=m\n",
    "        \n",
    "    def go(self):\n",
    "        if self.name and self.color and self.material and self.n_tire:\n",
    "            print(\"| All properties are already settle down\")\n",
    "            print(\"| Let's accecelarate\")\n",
    "        else:\n",
    "            print(\"| some properties are missing\")\n",
    "            print(\"| But Let's Go\")\n",
    "        \n",
    "class Taxi(A_Car):\n",
    "    def build(self):\n",
    "        print(\"Before building, do 'go' \")\n",
    "        print(\"-\"*20)\n",
    "        \n",
    "        super().go()\n",
    "        \n",
    "        \n",
    "        print()\n",
    "        print(\"After building, do 'go' \")\n",
    "        print(\"-\"*20)\n",
    "        \n",
    "        self.name=\"Taxi\"\n",
    "        self.color=\"Yellow\"\n",
    "        self.n_tire=4\n",
    "        super().set_material(\"Metal\")\n",
    "    \n",
    "        super().go()"
   ]
  },
  {
   "cell_type": "code",
   "execution_count": 203,
   "id": "comfortable-perspective",
   "metadata": {},
   "outputs": [
    {
     "name": "stdout",
     "output_type": "stream",
     "text": [
      "Before building, do 'go' \n",
      "--------------------\n",
      "| some properties are missing\n",
      "| But Let's Go\n",
      "\n",
      "After building, do 'go' \n",
      "--------------------\n",
      "| All properties are already settle down\n",
      "| Let's accecelarate\n",
      "\n",
      "當然，也可以讓T呼叫go()方法:\n",
      "| All properties are already settle down\n",
      "| Let's accecelarate\n"
     ]
    }
   ],
   "source": [
    "T=Taxi()\n",
    "T.build()\n",
    "print()\n",
    "print(\"當然，也可以讓T呼叫go()方法:\")\n",
    "T.go()"
   ]
  },
  {
   "cell_type": "markdown",
   "id": "listed-heath",
   "metadata": {},
   "source": [
    "<div STYLE=\"page-break-after: always;\"></div>"
   ]
  },
  {
   "cell_type": "markdown",
   "id": "interpreted-regression",
   "metadata": {},
   "source": [
    "<div id=5> </div>\n",
    "\n",
    "# 多載(Overloading)\n",
    "一個類別中有相同名稱但不同引數數量的方法，會以引數的數量決定呼叫哪一個方法\n",
    "\n",
    "但是Python並**不提供**多載特性，如果真的寫了兩個相同名稱的方法，會以後面的為主"
   ]
  },
  {
   "cell_type": "code",
   "execution_count": 204,
   "id": "operational-lawrence",
   "metadata": {},
   "outputs": [
    {
     "name": "stdout",
     "output_type": "stream",
     "text": [
      "執行引數數目為二的方法\n",
      "呼叫引數數目為兩個的method\n",
      "\n",
      "執行引數數目為一的方法\n",
      "Use 'O.method(1)' fail\n"
     ]
    }
   ],
   "source": [
    "class Overloading_class:\n",
    "    def method(self,x):\n",
    "        print(\"呼叫引數數目為一個的method\")\n",
    "    def method(self,x,y):\n",
    "        print(\"呼叫引數數目為兩個的method\")\n",
    "O=Overloading_class()\n",
    "print(\"執行引數數目為二的方法\")\n",
    "O.method(1,2)\n",
    "\n",
    "print()\n",
    "print(\"執行引數數目為一的方法\")\n",
    "try:\n",
    "    O.method(1)\n",
    "except:\n",
    "    print(\"Use 'O.method(1)' fail\")"
   ]
  },
  {
   "cell_type": "markdown",
   "id": "funded-colorado",
   "metadata": {},
   "source": [
    "<div STYLE=\"page-break-after: always;\"></div>"
   ]
  },
  {
   "cell_type": "markdown",
   "id": "secure-cedar",
   "metadata": {},
   "source": [
    "<div id=6> </div>\n",
    "\n",
    "# 多型(Polymorphism)\n",
    "不同類別繼承同一個父類別，對父類別某個共同方法的表現方法各自發展各自的內容"
   ]
  },
  {
   "cell_type": "code",
   "execution_count": 205,
   "id": "native-cemetery",
   "metadata": {},
   "outputs": [
    {
     "name": "stdout",
     "output_type": "stream",
     "text": [
      "貓叫：\n",
      "meow~\n",
      "\n",
      "狗叫\n",
      "woof~\n"
     ]
    }
   ],
   "source": [
    "class Animal:\n",
    "    def shout(self):\n",
    "        print(\"Not define\")\n",
    "        \n",
    "class Cat(Animal):\n",
    "    def shout(self):\n",
    "        print(\"meow~\")\n",
    "        \n",
    "class Dog(Animal):\n",
    "    def shout(self):\n",
    "        print(\"woof~\")\n",
    "        \n",
    "cat=Cat()\n",
    "dog=Dog()\n",
    "print(\"貓叫：\")\n",
    "cat.shout()\n",
    "print()\n",
    "print(\"狗叫\")\n",
    "dog.shout()"
   ]
  },
  {
   "cell_type": "markdown",
   "id": "complicated-margin",
   "metadata": {},
   "source": [
    "<div STYLE=\"page-break-after: always;\"></div>"
   ]
  },
  {
   "cell_type": "markdown",
   "id": "induced-baseball",
   "metadata": {},
   "source": [
    "<div id=7> </div>\n",
    "\n",
    "# 封裝(Encapsulation)\n",
    "在類別內使用私有變數，只留\"接口\"給使用者，也就是使用者不需要知道內部到底如何運做，只需要知道要**接口**和**回傳值**是什麼\n",
    "\n",
    "在python中，只要在變數前面加入兩個底線(__)就可以設為私有變數"
   ]
  },
  {
   "cell_type": "code",
   "execution_count": 206,
   "id": "conscious-monte",
   "metadata": {},
   "outputs": [
    {
     "name": "stdout",
     "output_type": "stream",
     "text": [
      "call self.x =  0\n",
      "y1 =  2\n",
      "y2 =  8\n"
     ]
    }
   ],
   "source": [
    "class Calculate:\n",
    "    def __init__(self):\n",
    "        self.x=0\n",
    "        self.y=0\n",
    "        self.__w=-1 # private variable\n",
    "        \n",
    "    def __Add(self,x,y):# private method\n",
    "        return x+y\n",
    "    \n",
    "    def subtract(self,x,y):\n",
    "        return x-y\n",
    "    \n",
    "    def combination(self):\n",
    "        self.x=0\n",
    "        self.y=10\n",
    "        self.__w=2\n",
    "        self.__z=3\n",
    "        res1=self.__Add(self.x,self.y) # 10\n",
    "        res2=self.subtract(self.x,self.__w) # -2\n",
    "        return res1+res2 #12\n",
    "cal=Calculate()\n",
    "print(\"call self.x = \",cal.x)\n",
    "\n",
    "y1=cal.subtract(7,5)#2\n",
    "print(\"y1 = \",y1)\n",
    "\n",
    "y2=cal.combination()#8\n",
    "print(\"y2 = \",y2)"
   ]
  },
  {
   "cell_type": "code",
   "execution_count": 207,
   "id": "quarterly-dealing",
   "metadata": {},
   "outputs": [
    {
     "name": "stdout",
     "output_type": "stream",
     "text": [
      "Try get cal.__w:\n",
      "\tGet cal.__w fail\n",
      "\n",
      "Try get cal.w:\n",
      "\tGet cal.w fail\n",
      "\n",
      "Try get cal.__Add(1,2):\n",
      "\tGet cal.__Add(1,2) fail\n",
      "\n",
      "Try get cal.Add(1,2):\n",
      "\tGet cal.Add(1,2) fail\n"
     ]
    }
   ],
   "source": [
    "\n",
    "# 以下方法是不行的\n",
    "# y3=cal.Add(1,2)\n",
    "# x=cal.x\n",
    "print(\"Try get cal.__w:\")\n",
    "try:\n",
    "    print(cal.__w)\n",
    "except:\n",
    "    print(\"\\tGet cal.__w fail\")\n",
    "    \n",
    "print()\n",
    "print(\"Try get cal.w:\")\n",
    "try:\n",
    "    print(cal.w)\n",
    "except:\n",
    "    print(\"\\tGet cal.w fail\")\n",
    "    \n",
    "print()\n",
    "print(\"Try get cal.__Add(1,2):\")\n",
    "try:\n",
    "    print(cal.__Add(1,2))\n",
    "except:\n",
    "    print(\"\\tGet cal.__Add(1,2) fail\")\n",
    "    \n",
    "print()\n",
    "print(\"Try get cal.Add(1,2):\")\n",
    "try:\n",
    "    print(cal.Add(1,2))\n",
    "except:\n",
    "    print(\"\\tGet cal.Add(1,2) fail\")\n",
    "    "
   ]
  },
  {
   "cell_type": "markdown",
   "id": "found-garden",
   "metadata": {},
   "source": [
    "# 封裝(Encapsulation)-2\n",
    "1. Python 有提供另一個方法，還是可以存取得到私有方法或屬性\n",
    "2. python會更改私有屬性的名稱來分別是否為私有屬性，所以我們用這個更改過的名稱來存取就可以了\n",
    "3. 透過底線＋類別名稱就可以辦得到"
   ]
  },
  {
   "cell_type": "code",
   "execution_count": 208,
   "id": "meaningful-dancing",
   "metadata": {},
   "outputs": [
    {
     "name": "stdout",
     "output_type": "stream",
     "text": [
      "私有屬性__dic =  {'x': 0, 'y': 10, '_Calculate__w': 2, '_Calculate__z': 3}\n",
      "\n",
      "私有屬性__w =  3\n",
      "更改私有屬性__w = 10\n",
      "\n",
      "私有方法__Add(100,200)結果 =  300\n"
     ]
    }
   ],
   "source": [
    "# Python 有提供另一個方法，還是可以存取得到私有方法或屬性\n",
    "# 透過底線＋類別名稱就可以辦得到\n",
    "\n",
    "#先以__dict__來看全部的屬性\n",
    "dic=cal.__dict__\n",
    "print(\"私有屬性__dic = \",dic)\n",
    "\n",
    "print()\n",
    "# 原來Python會更改私有屬性的名稱來分別是否為私有屬性，\n",
    "# 所以我們用這個更改過的名稱來存取就可以了\n",
    "private_w=cal._Calculate__z\n",
    "print(\"私有屬性__w = \",private_w)\n",
    "\n",
    "#也可以更改私有屬性\n",
    "cal._Calculate__z=10\n",
    "private_w=cal._Calculate__z\n",
    "print(\"更改私有屬性__w =\",private_w)\n",
    "\n",
    "print()\n",
    "#也可以調用私有方法\n",
    "res=cal._Calculate__Add(100,200)\n",
    "print(\"私有方法__Add(100,200)結果 = \", res)"
   ]
  }
 ],
 "metadata": {
  "kernelspec": {
   "display_name": "Python 3",
   "language": "python",
   "name": "python3"
  },
  "language_info": {
   "codemirror_mode": {
    "name": "ipython",
    "version": 3
   },
   "file_extension": ".py",
   "mimetype": "text/x-python",
   "name": "python",
   "nbconvert_exporter": "python",
   "pygments_lexer": "ipython3",
   "version": "3.8.8"
  }
 },
 "nbformat": 4,
 "nbformat_minor": 5
}
